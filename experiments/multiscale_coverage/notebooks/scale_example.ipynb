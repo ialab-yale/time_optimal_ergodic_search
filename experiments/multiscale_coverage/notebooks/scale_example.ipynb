{
 "cells": [
  {
   "cell_type": "code",
   "execution_count": 1,
   "metadata": {},
   "outputs": [],
   "source": [
    "import numpy as np \n",
    "import matplotlib.pyplot as plt\n",
    "import jax.numpy as jnp\n",
    "from jax import vmap\n",
    "import matplotlib.pyplot as plt\n",
    "from matplotlib.collections import PatchCollection\n",
    "import sys \n",
    "sys.path.append('../../../')\n",
    "sys.path.append('../')\n",
    "from build_scale_solver import build_erg_time_opt_solver\n",
    "from time_opt_erg_lib.obstacle import Obstacle\n",
    "import time \n"
   ]
  },
  {
   "cell_type": "code",
   "execution_count": 2,
   "metadata": {},
   "outputs": [
    {
     "name": "stderr",
     "output_type": "stream",
     "text": [
      "WARNING: All log messages before absl::InitializeLog() is called are written to STDERR\n",
      "I0000 00:00:1704576668.687852       1 tfrt_cpu_pjrt_client.cc:349] TfrtCpuClient created.\n"
     ]
    },
    {
     "name": "stdout",
     "output_type": "stream",
     "text": [
      "unsuccessful, tol:  0.002105683\n",
      "31.52222514152527\n",
      "unsuccessful, tol:  0.0021429062\n",
      "32.03315591812134\n",
      "unsuccessful, tol:  0.080272675\n",
      "31.750823974609375\n",
      "unsuccessful, tol:  0.002105683\n",
      "31.62878680229187\n",
      "unsuccessful, tol:  0.0021429062\n",
      "32.142826080322266\n",
      "unsuccessful, tol:  0.080272675\n",
      "32.04329013824463\n",
      "unsuccessful, tol:  0.002105683\n",
      "31.73786425590515\n",
      "unsuccessful, tol:  0.0021429062\n",
      "32.24241781234741\n",
      "unsuccessful, tol:  0.080272675\n",
      "32.046651124954224\n",
      "unsuccessful, tol:  0.002105683\n",
      "31.798851251602173\n",
      "unsuccessful, tol:  0.0021429062\n",
      "32.39306592941284\n",
      "unsuccessful, tol:  0.080272675\n",
      "32.026917934417725\n",
      "unsuccessful, tol:  0.002105683\n",
      "485.57740807533264\n"
     ]
    },
    {
     "ename": "KeyboardInterrupt",
     "evalue": "",
     "output_type": "error",
     "traceback": [
      "\u001b[0;31m---------------------------------------------------------------------------\u001b[0m",
      "\u001b[0;31mKeyboardInterrupt\u001b[0m                         Traceback (most recent call last)",
      "Cell \u001b[0;32mIn[2], line 17\u001b[0m\n\u001b[1;32m     15\u001b[0m solver \u001b[38;5;241m=\u001b[39m build_erg_time_opt_solver(args, tf_init\u001b[38;5;241m=\u001b[39m\u001b[38;5;241m10.0\u001b[39m)\n\u001b[1;32m     16\u001b[0m start_time \u001b[38;5;241m=\u001b[39m time\u001b[38;5;241m.\u001b[39mtime()\n\u001b[0;32m---> 17\u001b[0m \u001b[43msolver\u001b[49m\u001b[38;5;241;43m.\u001b[39;49m\u001b[43msolve\u001b[49m\u001b[43m(\u001b[49m\u001b[43mmax_iter\u001b[49m\u001b[38;5;241;43m=\u001b[39;49m\u001b[38;5;241;43m20_000\u001b[39;49m\u001b[43m,\u001b[49m\u001b[43m \u001b[49m\u001b[43meps\u001b[49m\u001b[38;5;241;43m=\u001b[39;49m\u001b[38;5;241;43m1e-58\u001b[39;49m\u001b[43m,\u001b[49m\u001b[43m \u001b[49m\u001b[43malpha\u001b[49m\u001b[38;5;241;43m=\u001b[39;49m\u001b[38;5;241;43m1.000000001\u001b[39;49m\u001b[43m)\u001b[49m\n\u001b[1;32m     18\u001b[0m end_time \u001b[38;5;241m=\u001b[39m time\u001b[38;5;241m.\u001b[39mtime()\n\u001b[1;32m     19\u001b[0m \u001b[38;5;28mprint\u001b[39m(end_time\u001b[38;5;241m-\u001b[39mstart_time)\n",
      "File \u001b[0;32m~/PlayGround/time_optimal_ergodic_ros_env/src/time_optimal_ergodic_control/experiments/multiscale_coverage/notebooks/../../../time_opt_erg_lib/opt_solver.py:87\u001b[0m, in \u001b[0;36mAugmentedLagrangeSolver.solve\u001b[0;34m(self, args, max_iter, eps, alpha)\u001b[0m\n\u001b[1;32m     83\u001b[0m _prev_val   \u001b[38;5;241m=\u001b[39m \u001b[38;5;28;01mNone\u001b[39;00m\n\u001b[1;32m     85\u001b[0m \u001b[38;5;28;01mfor\u001b[39;00m k \u001b[38;5;129;01min\u001b[39;00m \u001b[38;5;28mrange\u001b[39m(max_iter):\n\u001b[1;32m     86\u001b[0m     \u001b[38;5;66;03m# self.solution, _val, self.avg_sq_grad = self.step(self.solution, args, self.avg_sq_grad, self.c)\u001b[39;00m\n\u001b[0;32m---> 87\u001b[0m     \u001b[38;5;28mself\u001b[39m\u001b[38;5;241m.\u001b[39msolution, \u001b[38;5;28mself\u001b[39m\u001b[38;5;241m.\u001b[39mdual_solution, \u001b[38;5;28mself\u001b[39m\u001b[38;5;241m.\u001b[39mavg_sq_grad, _val \u001b[38;5;241m=\u001b[39m \u001b[38;5;28;43mself\u001b[39;49m\u001b[38;5;241;43m.\u001b[39;49m\u001b[43mstep\u001b[49m\u001b[43m(\u001b[49m\u001b[38;5;28;43mself\u001b[39;49m\u001b[38;5;241;43m.\u001b[39;49m\u001b[43msolution\u001b[49m\u001b[43m,\u001b[49m\u001b[43m \u001b[49m\u001b[38;5;28;43mself\u001b[39;49m\u001b[38;5;241;43m.\u001b[39;49m\u001b[43mdual_solution\u001b[49m\u001b[43m,\u001b[49m\u001b[43m \u001b[49m\u001b[38;5;28;43mself\u001b[39;49m\u001b[38;5;241;43m.\u001b[39;49m\u001b[43mavg_sq_grad\u001b[49m\u001b[43m,\u001b[49m\u001b[43m \u001b[49m\u001b[43margs\u001b[49m\u001b[43m,\u001b[49m\u001b[43m \u001b[49m\u001b[38;5;28;43mself\u001b[39;49m\u001b[38;5;241;43m.\u001b[39;49m\u001b[43mc\u001b[49m\u001b[43m)\u001b[49m\n\u001b[1;32m     88\u001b[0m     \u001b[38;5;28mself\u001b[39m\u001b[38;5;241m.\u001b[39mc \u001b[38;5;241m=\u001b[39m alpha\u001b[38;5;241m*\u001b[39m\u001b[38;5;28mself\u001b[39m\u001b[38;5;241m.\u001b[39mc\n\u001b[1;32m     89\u001b[0m     \u001b[38;5;28;01mif\u001b[39;00m _prev_val \u001b[38;5;129;01mis\u001b[39;00m \u001b[38;5;28;01mNone\u001b[39;00m:\n",
      "\u001b[0;31mKeyboardInterrupt\u001b[0m: "
     ]
    }
   ],
   "source": [
    "scales = [1.0,10.0,100.0]\n",
    "trials = 10\n",
    "logs = {'times' : [],'solutions' : []}\n",
    "for trial in range(trials):\n",
    "    logs['times'].append([])\n",
    "    for scale in scales: \n",
    "        args = {\n",
    "            'N' : 800, \n",
    "            'x0' : np.array([0.02, .02])*scale,\n",
    "            'xf' : np.array([.988, .920])*scale,\n",
    "            'erg_ub' : 0.001,\n",
    "            'alpha' : 0.9,\n",
    "            'wrksp_bnds' : np.array([[0.,1.],[0.,1.]])*scale\n",
    "        }\n",
    "        solver = build_erg_time_opt_solver(args, tf_init=10.0)\n",
    "        start_time = time.time()\n",
    "        solver.solve(max_iter=20_000, eps=1e-58, alpha=1.000000001)\n",
    "        end_time = time.time()\n",
    "        print(end_time-start_time)\n",
    "        logs['times'][trial].append(end_time-start_time)"
   ]
  },
  {
   "cell_type": "code",
   "execution_count": 4,
   "metadata": {},
   "outputs": [
    {
     "name": "stdout",
     "output_type": "stream",
     "text": [
      "37.078617\n"
     ]
    }
   ],
   "source": [
    "sol = solver.get_solution()\n",
    "print(sol['tf'])"
   ]
  },
  {
   "cell_type": "code",
   "execution_count": 5,
   "metadata": {},
   "outputs": [
    {
     "data": {
      "text/plain": [
       "(0.0, 100.0)"
      ]
     },
     "execution_count": 5,
     "metadata": {},
     "output_type": "execute_result"
    },
    {
     "data": {
      "image/png": "[encoded data removed]",
      "text/plain": [
       "<Figure size 432x288 with 1 Axes>"
      ]
     },
     "metadata": {
      "needs_background": "light"
     },
     "output_type": "display_data"
    }
   ],
   "source": [
    "fig, ax = plt.subplots() \n",
    "\n",
    "ax.plot(sol['x'][:,0], sol['x'][:,1],'k')\n",
    "ax.plot(sol['x'][::5,0], sol['x'][::5,1],'b+')\n",
    "\n",
    "# patches = []\n",
    "# for ob in obs: \n",
    "#     circ = ob.draw()\n",
    "#     patches.append(circ)\n",
    "\n",
    "# ax.add_collection(PatchCollection(patches, color='g'))\n",
    "ax.axis('square')\n",
    "ax.set_xlim(0,1*scale)\n",
    "ax.set_ylim(0,1*scale)\n",
    "\n",
    "# plt.savefig('scaled_search_forest.pdf')\n"
   ]
  },
  {
   "cell_type": "code",
   "execution_count": null,
   "metadata": {},
   "outputs": [],
   "source": []
  },
  {
   "cell_type": "code",
   "execution_count": null,
   "metadata": {},
   "outputs": [],
   "source": []
  }
 ],
 "metadata": {
  "kernelspec": {
   "display_name": "Python 3",
   "language": "python",
   "name": "python3"
  },
  "language_info": {
   "codemirror_mode": {
    "name": "ipython",
    "version": 3
   },
   "file_extension": ".py",
   "mimetype": "text/x-python",
   "name": "python",
   "nbconvert_exporter": "python",
   "pygments_lexer": "ipython3",
   "version": "3.10.2"
  }
 },
 "nbformat": 4,
 "nbformat_minor": 2
}
