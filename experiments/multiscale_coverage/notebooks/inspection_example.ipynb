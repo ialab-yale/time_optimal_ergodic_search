{
 "cells": [
  {
   "cell_type": "code",
   "execution_count": 4,
   "metadata": {},
   "outputs": [],
   "source": [
    "import numpy as np \n",
    "import matplotlib.pyplot as plt\n",
    "import jax.numpy as jnp\n",
    "from jax import vmap\n",
    "import matplotlib.pyplot as plt\n",
    "from matplotlib. collections import PatchCollection\n",
    "import sys \n",
    "sys.path.append('../../../')\n",
    "sys.path.append('../../')\n",
    "sys.path.append('../')\n",
    "from build_solver import build_inspection_erg_time_opt_solver\n",
    "\n",
    "import dill as pkl\n",
    "\n"
   ]
  },
  {
   "cell_type": "code",
   "execution_count": 5,
   "metadata": {},
   "outputs": [],
   "source": [
    "args = {\n",
    "    'N' : 100, \n",
    "    'x0' : np.array([0.0, 0.0]),\n",
    "    'xf' : np.array([0.0, 0.0]),\n",
    "    'erg_ub' : 0.001,\n",
    "    'alpha' : 0.9,\n",
    "    'wrksp_bnds' : np.array([[-np.pi/4, np.pi/4],[-np.pi/4,np.pi/4]])\n",
    "}"
   ]
  },
  {
   "cell_type": "code",
   "execution_count": 6,
   "metadata": {},
   "outputs": [
    {
     "name": "stderr",
     "output_type": "stream",
     "text": [
      "WARNING: All log messages before absl::InitializeLog() is called are written to STDERR\n",
      "I0000 00:00:1704312528.444190       1 tfrt_cpu_pjrt_client.cc:349] TfrtCpuClient created.\n"
     ]
    },
    {
     "name": "stdout",
     "output_type": "stream",
     "text": [
      "done in  11104  iterations\n"
     ]
    }
   ],
   "source": [
    "solver = build_inspection_erg_time_opt_solver(args)\n",
    "solver.solve(max_iter=20_000, eps=1e-6, alpha=1.0001)"
   ]
  },
  {
   "cell_type": "code",
   "execution_count": 7,
   "metadata": {},
   "outputs": [
    {
     "data": {
      "text/plain": [
       "(-0.781642597913742,\n",
       " 0.7945809185504913,\n",
       " -0.795890462398529,\n",
       " 0.7803330540657043)"
      ]
     },
     "execution_count": 7,
     "metadata": {},
     "output_type": "execute_result"
    },
    {
     "data": {
      "image/png": "[encoded data removed]",
      "text/plain": [
       "<Figure size 432x288 with 1 Axes>"
      ]
     },
     "metadata": {
      "needs_background": "light"
     },
     "output_type": "display_data"
    }
   ],
   "source": [
    "sol = solver.get_solution()\n",
    "\n",
    "fig, ax = plt.subplots() \n",
    "\n",
    "ax.plot(sol['x'][:,0], sol['x'][:,1],'k')\n",
    "ax.plot(sol['x'][::5,0], sol['x'][::5,1],'b+')\n",
    "\n",
    "\n",
    "ax.axis('square')\n",
    "# ax.set_xlim(0,100)\n",
    "# ax.set_ylim(0,100)\n",
    "# plt.savefig('scaled_search_forest.pdf')\n"
   ]
  },
  {
   "cell_type": "code",
   "execution_count": 8,
   "metadata": {},
   "outputs": [],
   "source": [
    "file = open('./../data/inspection_sol.pkl', 'wb')\n",
    "pkl.dump(sol, file)\n",
    "file.close()\n",
    "\n",
    "# file = open('./data/obs_loc.pkl', 'wb')\n",
    "# pkl.dump(obs, file)\n",
    "# file.close()\n"
   ]
  },
  {
   "cell_type": "code",
   "execution_count": 32,
   "metadata": {},
   "outputs": [],
   "source": [
    "# obs = pkl.load(open('./data/obs_loc.pkl', 'rb'))"
   ]
  },
  {
   "cell_type": "code",
   "execution_count": 9,
   "metadata": {},
   "outputs": [
    {
     "data": {
      "text/plain": [
       "Array(3.924311, dtype=float32, weak_type=True)"
      ]
     },
     "execution_count": 9,
     "metadata": {},
     "output_type": "execute_result"
    }
   ],
   "source": [
    "sol['tf']"
   ]
  },
  {
   "cell_type": "code",
   "execution_count": null,
   "metadata": {},
   "outputs": [],
   "source": []
  }
 ],
 "metadata": {
  "kernelspec": {
   "display_name": "Python 3",
   "language": "python",
   "name": "python3"
  },
  "language_info": {
   "codemirror_mode": {
    "name": "ipython",
    "version": 3
   },
   "file_extension": ".py",
   "mimetype": "text/x-python",
   "name": "python",
   "nbconvert_exporter": "python",
   "pygments_lexer": "ipython3",
   "version": "3.10.2"
  }
 },
 "nbformat": 4,
 "nbformat_minor": 2
}
