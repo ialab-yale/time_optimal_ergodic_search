{
 "cells": [
  {
   "cell_type": "code",
   "execution_count": 1,
   "metadata": {},
   "outputs": [],
   "source": [
    "import numpy as np \n",
    "import matplotlib.pyplot as plt\n",
    "import jax.numpy as jnp\n",
    "from jax import vmap\n",
    "import matplotlib.pyplot as plt\n",
    "from matplotlib. collections import PatchCollection\n",
    "import sys \n",
    "from build_solver import build_erg_time_opt_solver\n",
    "sys.path.append('../')\n",
    "\n",
    "from time_opt_erg_lib.obstacle import Obstacle\n"
   ]
  },
  {
   "cell_type": "code",
   "execution_count": 2,
   "metadata": {},
   "outputs": [],
   "source": [
    "args = {\n",
    "    'N' : 800, \n",
    "    'x0' : np.array([2.0, 2.2])*1,\n",
    "    'xf' : np.array([98.8, 92.0])*1,\n",
    "    'erg_ub' : 0.0001,\n",
    "    'alpha' : 0.9,\n",
    "    'wrksp_bnds' : np.array([[0.,100.],[0.,100.]])\n",
    "}"
   ]
  },
  {
   "cell_type": "code",
   "execution_count": 3,
   "metadata": {},
   "outputs": [
    {
     "name": "stderr",
     "output_type": "stream",
     "text": [
      "WARNING: All log messages before absl::InitializeLog() is called are written to STDERR\n",
      "I0000 00:00:1704209860.265595       1 tfrt_cpu_pjrt_client.cc:349] TfrtCpuClient created.\n"
     ]
    },
    {
     "name": "stdout",
     "output_type": "stream",
     "text": [
      "done in  17720  iterations\n"
     ]
    }
   ],
   "source": [
    "solver, obs = build_erg_time_opt_solver(args)\n",
    "solver.solve(max_iter=20_000, eps=1e-8, alpha=1.00001)"
   ]
  },
  {
   "cell_type": "code",
   "execution_count": null,
   "metadata": {},
   "outputs": [
    {
     "ename": "",
     "evalue": "",
     "output_type": "error",
     "traceback": [
      "\u001b[1;31mRunning cells with 'ros_env' requires the ipykernel package.\n",
      "\u001b[1;31mRun the following command to install 'ipykernel' into the Python environment. \n",
      "\u001b[1;31mCommand: 'conda install -n ros_env ipykernel --update-deps --force-reinstall'"
     ]
    }
   ],
   "source": [
    "sol = solver.get_solution()\n",
    "\n",
    "fig, ax = plt.subplots() \n",
    "\n",
    "ax.plot(sol['x'][:,0], sol['x'][:,1],'k')\n",
    "ax.plot(sol['x'][::5,0], sol['x'][::5,1],'b+')\n",
    "\n",
    "patches = []\n",
    "for ob in obs: \n",
    "    circ = ob.draw()\n",
    "    patches.append(circ)\n",
    "\n",
    "ax.add_collection(PatchCollection(patches, color='g'))\n",
    "ax.axis('square')\n",
    "ax.set_xlim(0,100)\n",
    "ax.set_ylim(0,100)\n",
    "\n",
    "plt.savefig('scaled_search_forest.pdf')\n"
   ]
  },
  {
   "cell_type": "code",
   "execution_count": 10,
   "metadata": {},
   "outputs": [],
   "source": [
    "import dill as pkl\n",
    "\n",
    "file = open('./data/forest_sol.pkl', 'wb')\n",
    "pkl.dump(sol, file)\n",
    "file.close()\n",
    "\n",
    "file = open('./data/obs_loc.pkl', 'wb')\n",
    "pkl.dump(obs, file)\n",
    "file.close()\n"
   ]
  },
  {
   "cell_type": "code",
   "execution_count": 13,
   "metadata": {},
   "outputs": [],
   "source": [
    "obs = pkl.load(open('./data/obs_loc.pkl', 'rb'))"
   ]
  },
  {
   "cell_type": "code",
   "execution_count": 17,
   "metadata": {},
   "outputs": [
    {
     "data": {
      "text/plain": [
       "Array(50.77798, dtype=float32, weak_type=True)"
      ]
     },
     "execution_count": 17,
     "metadata": {},
     "output_type": "execute_result"
    }
   ],
   "source": [
    "sol['tf']"
   ]
  },
  {
   "cell_type": "code",
   "execution_count": null,
   "metadata": {},
   "outputs": [],
   "source": []
  }
 ],
 "metadata": {
  "kernelspec": {
   "display_name": "Python 3",
   "language": "python",
   "name": "python3"
  },
  "language_info": {
   "codemirror_mode": {
    "name": "ipython",
    "version": 3
   },
   "file_extension": ".py",
   "mimetype": "text/x-python",
   "name": "python",
   "nbconvert_exporter": "python",
   "pygments_lexer": "ipython3",
   "version": "3.11.4"
  }
 },
 "nbformat": 4,
 "nbformat_minor": 2
}
