{
 "cells": [
  {
   "cell_type": "code",
   "execution_count": 2,
   "metadata": {},
   "outputs": [],
   "source": [
    "import numpy as np\n",
    "import pickle as pkl\n",
    "import yaml"
   ]
  },
  {
   "cell_type": "code",
   "execution_count": 3,
   "metadata": {},
   "outputs": [],
   "source": [
    "obs_info = pkl.load(open('./obs_info.pkl', 'rb'))"
   ]
  },
  {
   "cell_type": "code",
   "execution_count": 4,
   "metadata": {},
   "outputs": [
    {
     "data": {
      "text/plain": [
       "{'obs_0': {'pos': [2.84, 1.82],\n",
       "  'half_dims': [0.050499999999999996, 0.099],\n",
       "  'rot': -0.0},\n",
       " 'obs_1': {'pos': [1.26, 3.31], 'half_dims': [0.15, 0.15], 'rot': -0.0},\n",
       " 'obs_2': {'pos': [2.62, 0.08], 'half_dims': [0.105, 0.105], 'rot': -0.0},\n",
       " 'obs_3': {'pos': [2.5, 2.85], 'half_dims': [0.1, 0.1], 'rot': -0.0},\n",
       " 'obs_4': {'pos': [3.05, 1.08],\n",
       "  'half_dims': [0.0675, 0.0675],\n",
       "  'rot': -0.7853981633974483},\n",
       " 'obs_5': {'pos': [1.77, -0.47],\n",
       "  'half_dims': [0.0675, 0.0675],\n",
       "  'rot': -0.7853981633974483},\n",
       " 'obs_6': {'pos': [0.64, 2.8],\n",
       "  'half_dims': [0.1, 0.1],\n",
       "  'rot': -0.7853981633974483},\n",
       " 'obs_7': {'pos': [0.82, 1.95],\n",
       "  'half_dims': [0.0675, 0.0675],\n",
       "  'rot': -0.7853981633974483},\n",
       " 'obs_8': {'pos': [0.73, 1.04],\n",
       "  'half_dims': [0.0675, 0.0675],\n",
       "  'rot': -0.7853981633974483},\n",
       " 'obs_9': {'pos': [1.03, -0.07], 'half_dims': [0.0675, 0.0675], 'rot': -0.0},\n",
       " 'obs_10': {'pos': [1.7, 2.4], 'half_dims': [0.205, 0.07], 'rot': -0.0},\n",
       " 'obs_11': {'pos': [1.65, 0.58],\n",
       "  'half_dims': [0.050499999999999996, 0.248],\n",
       "  'rot': -5.497787143782138},\n",
       " 'obs_12': {'pos': [1.87, 1.64], 'half_dims': [0.235, 0.235], 'rot': -0.0}}"
      ]
     },
     "execution_count": 4,
     "metadata": {},
     "output_type": "execute_result"
    }
   ],
   "source": [
    "obs_info"
   ]
  },
  {
   "cell_type": "code",
   "execution_count": 5,
   "metadata": {},
   "outputs": [
    {
     "data": {
      "text/plain": [
       "'obs_0:\\n  half_dims:\\n  - !!python/object/apply:numpy.core.multiarray.scalar\\n    - &id001 !!python/object/apply:numpy.dtype\\n      args:\\n      - f8\\n      - false\\n      - true\\n      state: !!python/tuple\\n      - 3\\n      - <\\n      - null\\n      - null\\n      - null\\n      - -1\\n      - -1\\n      - 0\\n    - !!binary |\\n      QWDl0CLbqT8=\\n  - !!python/object/apply:numpy.core.multiarray.scalar\\n    - *id001\\n    - !!binary |\\n      8tJNYhBYuT8=\\n  pos:\\n  - !!python/object/apply:numpy.core.multiarray.scalar\\n    - *id001\\n    - !!binary |\\n      uB6F61G4BkA=\\n  - !!python/object/apply:numpy.core.multiarray.scalar\\n    - *id001\\n    - !!binary |\\n      H4XrUbge/T8=\\n  rot: !!python/object/apply:numpy.core.multiarray.scalar\\n  - *id001\\n  - !!binary |\\n    AAAAAAAAAIA=\\nobs_1:\\n  half_dims:\\n  - !!python/object/apply:numpy.core.multiarray.scalar\\n    - *id001\\n    - !!binary |\\n      MzMzMzMzwz8=\\n  - !!python/object/apply:numpy.core.multiarray.scalar\\n    - *id001\\n    - !!binary |\\n      MzMzMzMzwz8=\\n  pos:\\n  - !!python/object/apply:numpy.core.multiarray.scalar\\n    - *id001\\n    - !!binary |\\n      KVyPwvUo9D8=\\n  - !!python/object/apply:numpy.core.multiarray.scalar\\n    - *id001\\n    - !!binary |\\n      exSuR+F6CkA=\\n  rot: !!python/object/apply:numpy.core.multiarray.scalar\\n  - *id001\\n  - !!binary |\\n    AAAAAAAAAIA=\\nobs_10:\\n  half_dims:\\n  - !!python/object/apply:numpy.core.multiarray.scalar\\n    - *id001\\n    - !!binary |\\n      PQrXo3A9yj8=\\n  - !!python/object/apply:numpy.core.multiarray.scalar\\n    - *id001\\n    - !!binary |\\n      7FG4HoXrsT8=\\n  pos:\\n  - !!python/object/apply:numpy.core.multiarray.scalar\\n    - *id001\\n    - !!binary |\\n      MzMzMzMz+z8=\\n  - !!python/object/apply:numpy.core.multiarray.scalar\\n    - *id001\\n    - !!binary |\\n      MzMzMzMzA0A=\\n  rot: !!python/object/apply:numpy.core.multiarray.scalar\\n  - *id001\\n  - !!binary |\\n    AAAAAAAAAIA=\\nobs_11:\\n  half_dims:\\n  - !!python/object/apply:numpy.core.multiarray.scalar\\n    - *id001\\n    - !!binary |\\n      QWDl0CLbqT8=\\n  - !!python/object/apply:numpy.core.multiarray.scalar\\n    - *id001\\n    - !!binary |\\n      WDm0yHa+zz8=\\n  pos:\\n  - !!python/object/apply:numpy.core.multiarray.scalar\\n    - *id001\\n    - !!binary |\\n      ZmZmZmZm+j8=\\n  - !!python/object/apply:numpy.core.multiarray.scalar\\n    - *id001\\n    - !!binary |\\n      j8L1KFyP4j8=\\n  rot: !!python/object/apply:numpy.core.multiarray.scalar\\n  - *id001\\n  - !!binary |\\n    dae76bv9FcA=\\nobs_12:\\n  half_dims:\\n  - !!python/object/apply:numpy.core.multiarray.scalar\\n    - *id001\\n    - !!binary |\\n      FK5H4XoUzj8=\\n  - !!python/object/apply:numpy.core.multiarray.scalar\\n    - *id001\\n    - !!binary |\\n      FK5H4XoUzj8=\\n  pos:\\n  - !!python/object/apply:numpy.core.multiarray.scalar\\n    - *id001\\n    - !!binary |\\n      7FG4HoXr/T8=\\n  - !!python/object/apply:numpy.core.multiarray.scalar\\n    - *id001\\n    - !!binary |\\n      PQrXo3A9+j8=\\n  rot: !!python/object/apply:numpy.core.multiarray.scalar\\n  - *id001\\n  - !!binary |\\n    AAAAAAAAAIA=\\nobs_2:\\n  half_dims:\\n  - !!python/object/apply:numpy.core.multiarray.scalar\\n    - *id001\\n    - !!binary |\\n      4XoUrkfhuj8=\\n  - !!python/object/apply:numpy.core.multiarray.scalar\\n    - *id001\\n    - !!binary |\\n      4XoUrkfhuj8=\\n  pos:\\n  - !!python/object/apply:numpy.core.multiarray.scalar\\n    - *id001\\n    - !!binary |\\n      9ihcj8L1BEA=\\n  - !!python/object/apply:numpy.core.multiarray.scalar\\n    - *id001\\n    - !!binary |\\n      exSuR+F6tD8=\\n  rot: !!python/object/apply:numpy.core.multiarray.scalar\\n  - *id001\\n  - !!binary |\\n    AAAAAAAAAIA=\\nobs_3:\\n  half_dims:\\n  - !!python/object/apply:numpy.core.multiarray.scalar\\n    - *id001\\n    - !!binary |\\n      mpmZmZmZuT8=\\n  - !!python/object/apply:numpy.core.multiarray.scalar\\n    - *id001\\n    - !!binary |\\n      mpmZmZmZuT8=\\n  pos:\\n  - !!python/object/apply:numpy.core.multiarray.scalar\\n    - *id001\\n    - !!binary |\\n      AAAAAAAABEA=\\n  - !!python/object/apply:numpy.core.multiarray.scalar\\n    - *id001\\n    - !!binary |\\n      zczMzMzMBkA=\\n  rot: !!python/object/apply:numpy.core.multiarray.scalar\\n  - *id001\\n  - !!binary |\\n    AAAAAAAAAIA=\\nobs_4:\\n  half_dims:\\n  - !!python/object/apply:numpy.core.multiarray.scalar\\n    - *id001\\n    - !!binary |\\n      SOF6FK5HsT8=\\n  - !!python/object/apply:numpy.core.multiarray.scalar\\n    - *id001\\n    - !!binary |\\n      SOF6FK5HsT8=\\n  pos:\\n  - !!python/object/apply:numpy.core.multiarray.scalar\\n    - *id001\\n    - !!binary |\\n      ZmZmZmZmCEA=\\n  - !!python/object/apply:numpy.core.multiarray.scalar\\n    - *id001\\n    - !!binary |\\n      SOF6FK5H8T8=\\n  rot: !!python/object/apply:numpy.core.multiarray.scalar\\n  - *id001\\n  - !!binary |\\n    GC1EVPsh6b8=\\nobs_5:\\n  half_dims:\\n  - !!python/object/apply:numpy.core.multiarray.scalar\\n    - *id001\\n    - !!binary |\\n      SOF6FK5HsT8=\\n  - !!python/object/apply:numpy.core.multiarray.scalar\\n    - *id001\\n    - !!binary |\\n      SOF6FK5HsT8=\\n  pos:\\n  - !!python/object/apply:numpy.core.multiarray.scalar\\n    - *id001\\n    - !!binary |\\n      UrgehetR/D8=\\n  - !!python/object/apply:numpy.core.multiarray.scalar\\n    - *id001\\n    - !!binary |\\n      FK5H4XoU3r8=\\n  rot: !!python/object/apply:numpy.core.multiarray.scalar\\n  - *id001\\n  - !!binary |\\n    GC1EVPsh6b8=\\nobs_6:\\n  half_dims:\\n  - !!python/object/apply:numpy.core.multiarray.scalar\\n    - *id001\\n    - !!binary |\\n      mpmZmZmZuT8=\\n  - !!python/object/apply:numpy.core.multiarray.scalar\\n    - *id001\\n    - !!binary |\\n      mpmZmZmZuT8=\\n  pos:\\n  - !!python/object/apply:numpy.core.multiarray.scalar\\n    - *id001\\n    - !!binary |\\n      exSuR+F65D8=\\n  - !!python/object/apply:numpy.core.multiarray.scalar\\n    - *id001\\n    - !!binary |\\n      ZmZmZmZmBkA=\\n  rot: !!python/object/apply:numpy.core.multiarray.scalar\\n  - *id001\\n  - !!binary |\\n    GC1EVPsh6b8=\\nobs_7:\\n  half_dims:\\n  - !!python/object/apply:numpy.core.multiarray.scalar\\n    - *id001\\n    - !!binary |\\n      SOF6FK5HsT8=\\n  - !!python/object/apply:numpy.core.multiarray.scalar\\n    - *id001\\n    - !!binary |\\n      SOF6FK5HsT8=\\n  pos:\\n  - !!python/object/apply:numpy.core.multiarray.scalar\\n    - *id001\\n    - !!binary |\\n      PQrXo3A96j8=\\n  - !!python/object/apply:numpy.core.multiarray.scalar\\n    - *id001\\n    - !!binary |\\n      MzMzMzMz/z8=\\n  rot: !!python/object/apply:numpy.core.multiarray.scalar\\n  - *id001\\n  - !!binary |\\n    GC1EVPsh6b8=\\nobs_8:\\n  half_dims:\\n  - !!python/object/apply:numpy.core.multiarray.scalar\\n    - *id001\\n    - !!binary |\\n      SOF6FK5HsT8=\\n  - !!python/object/apply:numpy.core.multiarray.scalar\\n    - *id001\\n    - !!binary |\\n      SOF6FK5HsT8=\\n  pos:\\n  - !!python/object/apply:numpy.core.multiarray.scalar\\n    - *id001\\n    - !!binary |\\n      XI/C9Shc5z8=\\n  - !!python/object/apply:numpy.core.multiarray.scalar\\n    - *id001\\n    - !!binary |\\n      pHA9Ctej8D8=\\n  rot: !!python/object/apply:numpy.core.multiarray.scalar\\n  - *id001\\n  - !!binary |\\n    GC1EVPsh6b8=\\nobs_9:\\n  half_dims:\\n  - !!python/object/apply:numpy.core.multiarray.scalar\\n    - *id001\\n    - !!binary |\\n      SOF6FK5HsT8=\\n  - !!python/object/apply:numpy.core.multiarray.scalar\\n    - *id001\\n    - !!binary |\\n      SOF6FK5HsT8=\\n  pos:\\n  - !!python/object/apply:numpy.core.multiarray.scalar\\n    - *id001\\n    - !!binary |\\n      exSuR+F68D8=\\n  - !!python/object/apply:numpy.core.multiarray.scalar\\n    - *id001\\n    - !!binary |\\n      7FG4HoXrsb8=\\n  rot: !!python/object/apply:numpy.core.multiarray.scalar\\n  - *id001\\n  - !!binary |\\n    AAAAAAAAAIA=\\n'"
      ]
     },
     "execution_count": 5,
     "metadata": {},
     "output_type": "execute_result"
    }
   ],
   "source": [
    "yaml.dump(obs_info)"
   ]
  },
  {
   "cell_type": "code",
   "execution_count": null,
   "metadata": {},
   "outputs": [],
   "source": []
  }
 ],
 "metadata": {
  "kernelspec": {
   "display_name": "Python 3",
   "language": "python",
   "name": "python3"
  },
  "language_info": {
   "codemirror_mode": {
    "name": "ipython",
    "version": 3
   },
   "file_extension": ".py",
   "mimetype": "text/x-python",
   "name": "python",
   "nbconvert_exporter": "python",
   "pygments_lexer": "ipython3",
   "version": "3.8.10"
  },
  "orig_nbformat": 4,
  "vscode": {
   "interpreter": {
    "hash": "916dbcbb3f70747c44a77c7bcd40155683ae19c65e1c03b4aa3499c5328201f1"
   }
  }
 },
 "nbformat": 4,
 "nbformat_minor": 2
}
